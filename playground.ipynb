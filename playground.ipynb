{
 "cells": [
  {
   "cell_type": "code",
   "execution_count": null,
   "metadata": {},
   "outputs": [],
   "source": [
    "from typing import List\n",
    "def dailyTemperatures(temperatures: List[int]) -> List[int]:\n",
    "        # Method 1 : Brute Force\n",
    "        # Time complexity: O(n^2)\n",
    "        # Space complexity: O(1)\n",
    "        output = []\n",
    "        for i in range(len(temperatures)):\n",
    "            j, tmp = 1,0\n",
    "            while i+j<len(temperatures):\n",
    "                if temperatures[i+j]>temperatures[i]:\n",
    "                    tmp = j\n",
    "                    break\n",
    "                j +=1\n",
    "            output.append(tmp)\n",
    "        \n",
    "        # Method 2 : Monotonic Stack\n",
    "        # Source  : https://www.youtube.com/watch?v=cTBiBSnjO3c\n",
    "        output = [0] * len(temperatures)\n",
    "        stack = []  # pair: [temp, index]\n",
    "\n",
    "        for i, t in enumerate(temperatures):\n",
    "            while stack and t > stack[-1][0]:\n",
    "                stackT, stackInd = stack.pop()\n",
    "                output[stackInd] = i - stackInd\n",
    "            stack.append((t, i))\n",
    "        return output\n",
    "             \n",
    "             "
   ]
  },
  {
   "cell_type": "code",
   "execution_count": 17,
   "metadata": {},
   "outputs": [
    {
     "name": "stdout",
     "output_type": "stream",
     "text": [
      "4\n",
      "5\n",
      "6\n",
      "2\n",
      "0\n",
      "3\n",
      "7\n",
      "4\n"
     ]
    }
   ],
   "source": [
    "dailyTemperatures([73,74,75,71,69,72,76,73])"
   ]
  },
  {
   "cell_type": "code",
   "execution_count": null,
   "metadata": {},
   "outputs": [],
   "source": []
  }
 ],
 "metadata": {
  "kernelspec": {
   "display_name": "Python 3",
   "language": "python",
   "name": "python3"
  },
  "language_info": {
   "codemirror_mode": {
    "name": "ipython",
    "version": 3
   },
   "file_extension": ".py",
   "mimetype": "text/x-python",
   "name": "python",
   "nbconvert_exporter": "python",
   "pygments_lexer": "ipython3",
   "version": "3.12.2"
  }
 },
 "nbformat": 4,
 "nbformat_minor": 2
}
